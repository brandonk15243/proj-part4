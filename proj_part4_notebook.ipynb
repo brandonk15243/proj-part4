{
 "cells": [
  {
   "cell_type": "code",
   "execution_count": 10,
   "metadata": {
    "tags": []
   },
   "outputs": [],
   "source": [
    "import numpy as np\n",
    "import matplotlib.pyplot as plt\n",
    "import os\n",
    "from apng import APNG, PNG\n",
    "from huffman import *\n",
    "from helper import *\n",
    "from PIL import Image\n",
    "import io\n",
    "from bitarray import bitarray\n",
    "from TNCaprs import TNCaprs\n",
    "\n",
    "%matplotlib inline"
   ]
  },
  {
   "cell_type": "markdown",
   "metadata": {
    "tags": []
   },
   "source": [
    "import sounddevice as sd\n",
    "import RPi.GPIO as GPIO"
   ]
  },
  {
   "cell_type": "markdown",
   "metadata": {},
   "source": [
    "# Data Compression"
   ]
  },
  {
   "cell_type": "markdown",
   "metadata": {},
   "source": [
    "Choose file"
   ]
  },
  {
   "cell_type": "code",
   "execution_count": 11,
   "metadata": {
    "tags": []
   },
   "outputs": [
    {
     "name": "stdout",
     "output_type": "stream",
     "text": [
      "42 52\n"
     ]
    },
    {
     "data": {
      "image/png": "[encoded data removed]",
      "text/plain": [
       "<Figure size 600x600 with 1 Axes>"
      ]
     },
     "metadata": {},
     "output_type": "display_data"
    }
   ],
   "source": [
    "# Read APNG\n",
    "os.system('rm -rf frames/*')\n",
    "frames_folder = \"frames/\"\n",
    "apng = APNG.open(\"Rolling.png\")\n",
    "# Save frames\n",
    "frames = []\n",
    "for i, (png, control) in enumerate(apng.frames):\n",
    "    # png.save(frames_folder + f\"{i}.png\")\n",
    "    frames.append(np.array(Image.open(io.BytesIO(png.to_bytes())))[:, :, 0:3])\n",
    "    \n",
    "M, N = frames[0].shape[0:2]\n",
    "print(M, N)\n",
    "# Display image\n",
    "plt.figure(figsize=(6,6))\n",
    "plt.imshow(frames[0]), plt.xticks([]), plt.yticks([])\n",
    "plt.show()"
   ]
  },
  {
   "cell_type": "code",
   "execution_count": 7,
   "metadata": {
    "tags": []
   },
   "outputs": [],
   "source": [
    "def encode_frame(png, control, quality, i):\n",
    "    # Inputs: png (png obj)\n",
    "    #         control (control obj, to get delay)\n",
    "    #         quality (quality)\n",
    "    #         i (frame num, int)\n",
    "    # Returns: encoded (bitarray)\n",
    "    encoded = bitarray()\n",
    "    img = np.array(Image.open(io.BytesIO(png.to_bytes())))[:, :, 0:3]\n",
    "    M, N = img.shape[0:2]\n",
    "    \n",
    "    bits = encode_image(img, quality=quality)\n",
    "    \n",
    "    delay = control.delay\n",
    "    # Start\n",
    "    encoded.pack(bytes.fromhex(\"FFD8\"))\n",
    "    # Rows, Cols\n",
    "    encoded.pack(M.to_bytes(2, \"big\"))\n",
    "    encoded.pack(N.to_bytes(2, \"big\"))\n",
    "    # Quality\n",
    "    encoded.pack(quality.to_bytes(2, \"big\"))\n",
    "    # Delay\n",
    "    encoded.pack(delay.to_bytes(1, \"big\"))\n",
    "    # Frame num\n",
    "    encoded.pack(i.to_bytes(1, \"big\"))\n",
    "    for ba in bits:\n",
    "        encoded.pack(bytes.fromhex(\"FFDA\"))\n",
    "        num_pad = (16 - (len(ba) % 16)) % 16\n",
    "        ba += bitarray(\"1\") * num_pad # pad to even number of bytes with 1s\n",
    "        encoded += ba\n",
    "    encoded.pack(bytes.fromhex(\"FFD9\"))\n",
    "    \n",
    "    return encoded\n",
    "\n",
    "def decode_frame(bits):\n",
    "    # Input: bits\n",
    "    return"
   ]
  },
  {
   "cell_type": "code",
   "execution_count": 8,
   "metadata": {
    "tags": []
   },
   "outputs": [],
   "source": [
    "def encode_apng(apng, fname):\n",
    "    # Stores apng in file\n",
    "    ba = bitarray()\n",
    "    for i, (png, control) in enumerate(apng.frames):\n",
    "        ba += encode_frame(png, control, 75, i)\n",
    "    with open(fname, \"wb\") as fh:\n",
    "        ba.tofile(fh)"
   ]
  },
  {
   "cell_type": "code",
   "execution_count": 9,
   "metadata": {
    "tags": []
   },
   "outputs": [],
   "source": [
    "encode_apng(apng, 'apng.jpeg123')"
   ]
  },
  {
   "cell_type": "markdown",
   "metadata": {},
   "source": [
    "# Transmission Pipeline"
   ]
  },
  {
   "cell_type": "markdown",
   "metadata": {},
   "source": [
    "Generate config"
   ]
  },
  {
   "cell_type": "code",
   "execution_count": 11,
   "metadata": {},
   "outputs": [
    {
     "name": "stdout",
     "output_type": "stream",
     "text": [
      "Passcode: 13472\n",
      "cat direwolf-loopback-DRAFT.conf  | sed  's/EE123_CALL/EE1235-1/g'  | sed  's/EE123_PASSCODE/13472/g' | sed  's/EE123_COMMENT/comment=\"git\"/g' | sed  's/EE123_LATCOORD/lat=37^51.05N/g' | sed  's/EE123_LONGCOORD/long=122^15.65W/g' > direwolf-loopback.conf\n"
     ]
    },
    {
     "data": {
      "text/plain": [
       "0"
      ]
     },
     "execution_count": 11,
     "metadata": {},
     "output_type": "execute_result"
    }
   ],
   "source": [
    "# Enter your address here\n",
    "myaddress = \"6433 Telegraph Ave Oakland CA USA\"\n",
    "\n",
    "from geopy.geocoders import Nominatim\n",
    "geolocator = Nominatim(user_agent=\"EE123\")\n",
    "location = geolocator.geocode(myaddress, timeout=None)\n",
    "\n",
    "lat = \"lat=%d^%2.2f%s\" % (int(abs(location.latitude)),\n",
    "                          60*(abs(location.latitude) - abs(math.floor(location.latitude))),\n",
    "                          (\"N\") if location.latitude >0 else \"S\" )  \n",
    "long = \"long=%d^%2.2f%s\" % (int(abs(location.longitude)),\n",
    "                            60*(abs(location.longitude) - math.floor(abs(location.longitude))),\n",
    "                          (\"W\") if location.longitude <0 else \"E\" )  \n",
    "\n",
    "# enter your callsign and comment for the beacon\n",
    "callsign = \"EE1235-1\"\n",
    "comment = \"git\"\n",
    "\n",
    "# generate passcode\n",
    "callsignr = callsign.split('-')[0].upper()\n",
    "code = 0x73e2\n",
    "for i, char in enumerate(callsignr):\n",
    "    code ^= ord(char) << (8 if not i % 2 else 0)\n",
    "\n",
    "passcode = code & 0x7fff\n",
    "print(\"Passcode:\", passcode)\n",
    "\n",
    "import os\n",
    "\n",
    "cmd = \"cat direwolf-loopback-DRAFT.conf  | sed  's/EE123_CALL/\"+callsign+\"/g'  | \"\n",
    "cmd = cmd +  \"sed  's/EE123_PASSCODE/%d/g' | \" % (passcode)\n",
    "cmd = cmd +  \"sed  's/EE123_COMMENT/comment=\\\"%s\\\"/g' | \" % (comment)\n",
    "cmd = cmd +  \"sed  's/EE123_LATCOORD/%s/g' | \" % (lat)\n",
    "cmd = cmd +  \"sed  's/EE123_LONGCOORD/%s/g' > direwolf-loopback.conf\" % (long)\n",
    "print(cmd)\n",
    "os.system(cmd)  # NOTE: this is poor security practice, but conveniently concise here"
   ]
  },
  {
   "cell_type": "markdown",
   "metadata": {},
   "source": [
    "Devices"
   ]
  },
  {
   "cell_type": "code",
   "execution_count": 17,
   "metadata": {},
   "outputs": [],
   "source": [
    "builtin_idx = 0\n",
    "usb_idx = 1\n",
    "loop_idx = 3  # Use loopback dev 1! direwolf is connected to dev 0.\n",
    "loop_idx_rcv = 2 # Use loopback dev 0. \n",
    "sd.default.samplerate = 48000\n",
    "sd.default.channels = 1"
   ]
  },
  {
   "cell_type": "markdown",
   "metadata": {},
   "source": [
    "TNC"
   ]
  },
  {
   "cell_type": "code",
   "execution_count": 19,
   "metadata": {},
   "outputs": [],
   "source": [
    "# Convert from bitarray class to b64 bytes and back\n",
    "def ee123_bitarr_to_base64(bits: bitarray.bitarray):\n",
    "    bN = np.uint32(len(bits)).tobytes()\n",
    "    mybytes = bN + bits.tobytes()\n",
    "    return base64.b64encode(mybytes)\n",
    "\n",
    "def ee123_base64_to_bitarr(b64: str):\n",
    "    mybytes = base64.b64decode(b64)  # Be careful not to overwrite the builtin bytes class!\n",
    "    N = np.frombuffer(mybytes[:4], dtype='<u4')[0]\n",
    "    ba = bitarray.bitarray()\n",
    "    ba.frombytes(mybytes[4:])\n",
    "    return ba[:N]\n",
    "\n",
    "def file_to_b64(fname):\n",
    "    with open(fname, 'rb') as f:\n",
    "        raw = f.read()\n",
    "    # Prepend the number of bytes before encoding\n",
    "    b64 = base64.b64encode(np.uint32(len(raw)).tobytes() + raw)\n",
    "    return b64\n",
    "\n",
    "def enqueue_data(callsign, modem, data, address=None, uid=None, fname=\"myfile.bin\", \n",
    "                 comment=\"UCB EE123 message format\", dest=b\"APCAL\", bsize=240):\n",
    "    \"\"\"\n",
    "    Inputs:\n",
    "      callsign: your callsign\n",
    "      modem: a modem object\n",
    "      data: data to send as a bytes object\n",
    "      address: address callsign for the message, defaults to your callsign\n",
    "      uid: optionally specify a UID, otherwise one will be randomly chosen\n",
    "      fname: filename to send in start packet\n",
    "      comment: comment for start packet\n",
    "      dest: should be APCAL for EE123 data\n",
    "      bsize: number of bytes to send per packet\n",
    "      \n",
    "    Outputs:\n",
    "      Qout: a queue containing modulated packets to transmit\n",
    "      uid: the uid used for this data transfer\n",
    "    \"\"\"\n",
    "    if address is None:\n",
    "        address = callsign\n",
    "    if uid is None:\n",
    "        uid = np.random.randint(0, 10000)\n",
    "    uid = bytes(\"{:04d}\".format(uid), 'utf-8')\n",
    "    print(\"Putting packets in Queue for transmission ID=%s\" % uid.decode())\n",
    "    \n",
    "    Qout = Queue.Queue()\n",
    "    \n",
    "    Digi = b'WIDE1-1'\n",
    "\n",
    "    # Enqueue START packet\n",
    "    addr = bytes(':{:<9}:'.format(address), 'utf-8')\n",
    "    # addr, START, uid, filename, comment\n",
    "    start = b','.join([addr + b'START' + uid, bytes(fname, 'utf-8'), bytes(comment, 'utf-8')])\n",
    "    tmp = modem.modulatePacket(callsign=callsign, digi=Digi, dest=dest, info=start)\n",
    "    Qout.put(tmp)\n",
    "    # Enqueue data packets\n",
    "    idx = 0\n",
    "    while True:\n",
    "        seq = bytes('{:04d}'.format(idx), 'utf-8')\n",
    "        info = addr + data[idx*bsize:idx*bsize+bsize] + seq\n",
    "        tmp = modem.modulatePacket(callsign=callsign, digi=Digi, dest=dest, info=info)\n",
    "        Qout.put(tmp)\n",
    "        \n",
    "        idx += 1\n",
    "        if idx * bsize > len(data):\n",
    "            break\n",
    "    # Enqueue END packet\n",
    "    end = addr + b'END' + uid\n",
    "    tmp = modem.modulatePacket(callsign=callsign, digi=Digi, dest=dest, info=end)\n",
    "    Qout.put(tmp)\n",
    "\n",
    "    return Qout, uid"
   ]
  },
  {
   "cell_type": "code",
   "execution_count": 36,
   "metadata": {
    "tags": []
   },
   "outputs": [],
   "source": [
    "callsign = \"EE1235-1\"\n",
    "fs = 48000\n",
    "modem = TNCaprs(fs=fs, Abuffer=1024, Nchunks=10)\n",
    "fname = \"apng.jpeg123\"\n",
    "\n",
    "print(\"Putting packets in Queue\")\n",
    "\n",
    "# Enqueue the file\n",
    "file_b64 = file_to_b64(fname)\n",
    "Qout, uid = enqueue_data(\n",
    "    callsign,\n",
    "    modem,\n",
    "    file_b64,\n",
    "    fname=fname\n",
    ")\n",
    "\n",
    "print(\"Done. UID=%s\" % uid.decode())\n",
    "print(f\"There are {Qout.qsize()} packets in Qout\")"
   ]
  },
  {
   "cell_type": "code",
   "execution_count": 13,
   "metadata": {
    "tags": []
   },
   "outputs": [],
   "source": [
    "# Define the callback factory so we can specify which non-global queue we want\n",
    "def make_QR_callback(Qin):\n",
    "    def queueREPLAY_callback(indata, outdata, frames, time, status):\n",
    "#         assert frames == 1024\n",
    "        if status:\n",
    "            print(status)\n",
    "        outdata[:] = indata\n",
    "        Qin.put(indata.copy()[:, 0]) # Global queue\n",
    "    return queueREPLAY_callback"
   ]
  },
  {
   "cell_type": "code",
   "execution_count": 14,
   "metadata": {
    "tags": []
   },
   "outputs": [
    {
     "ename": "NameError",
     "evalue": "name 'Queue' is not defined",
     "output_type": "error",
     "traceback": [
      "\u001b[1;31m---------------------------------------------------------------------------\u001b[0m",
      "\u001b[1;31mNameError\u001b[0m                                 Traceback (most recent call last)",
      "Cell \u001b[1;32mIn[14], line 1\u001b[0m\n\u001b[1;32m----> 1\u001b[0m Qin \u001b[38;5;241m=\u001b[39m \u001b[43mQueue\u001b[49m\u001b[38;5;241m.\u001b[39mQueue()\n\u001b[0;32m      2\u001b[0m \u001b[38;5;66;03m# This stream captures samples on loopback_rcv and plays them on the built in device.\u001b[39;00m\n\u001b[0;32m      3\u001b[0m \u001b[38;5;66;03m# Remember that loopback is connected to loopback_rcv.\u001b[39;00m\n\u001b[0;32m      4\u001b[0m st_replay \u001b[38;5;241m=\u001b[39m sd\u001b[38;5;241m.\u001b[39mStream(device\u001b[38;5;241m=\u001b[39m(loop_idx_rcv, builtin_idx), blocksize\u001b[38;5;241m=\u001b[39mmodem\u001b[38;5;241m.\u001b[39mAbuffer, callback\u001b[38;5;241m=\u001b[39mmake_QR_callback(Qin))\n",
      "\u001b[1;31mNameError\u001b[0m: name 'Queue' is not defined"
     ]
    }
   ],
   "source": [
    "Qin = Queue.Queue()\n",
    "# This stream captures samples on loopback_rcv and plays them on the built in device.\n",
    "# Remember that loopback is connected to loopback_rcv.\n",
    "st_replay = sd.Stream(device=(loop_idx_rcv, builtin_idx), blocksize=modem.Abuffer, callback=make_QR_callback(Qin))\n",
    "print(\"Starting stream\")\n",
    "st_replay.start()\n",
    "starttime = time.time()\n",
    "\n",
    "N = Qout.qsize()\n",
    "n = 0\n",
    "while not Qout.empty():\n",
    "    n = n+1\n",
    "    tmp = Qout.get()\n",
    "    time.sleep(0.1)\n",
    "    sd.play(0.4*tmp,samplerate=fs,blocking=True,device=loop_idx)\n",
    "    print(\"played packet #%d of %d\" % (n,N))    \n",
    "\n",
    "# Remember, we have to stop and close the stream.\n",
    "st_replay.stop()\n",
    "st_replay.close()\n",
    "\n",
    "print(f\"Done: {time.time() - starttime:.2f} s\")\n",
    "print(f\"There are {Qin.qsize()} buffers in Qin\")"
   ]
  },
  {
   "cell_type": "code",
   "execution_count": 15,
   "metadata": {
    "tags": []
   },
   "outputs": [
    {
     "ename": "NameError",
     "evalue": "name 'st_replay' is not defined",
     "output_type": "error",
     "traceback": [
      "\u001b[1;31m---------------------------------------------------------------------------\u001b[0m",
      "\u001b[1;31mNameError\u001b[0m                                 Traceback (most recent call last)",
      "Cell \u001b[1;32mIn[15], line 2\u001b[0m\n\u001b[0;32m      1\u001b[0m \u001b[38;5;66;03m# Remember, we have to stop and close the stream.\u001b[39;00m\n\u001b[1;32m----> 2\u001b[0m \u001b[43mst_replay\u001b[49m\u001b[38;5;241m.\u001b[39mstop()\n\u001b[0;32m      3\u001b[0m st_replay\u001b[38;5;241m.\u001b[39mclose()\n",
      "\u001b[1;31mNameError\u001b[0m: name 'st_replay' is not defined"
     ]
    }
   ],
   "source": [
    "# Remember, we have to stop and close the stream.\n",
    "st_replay.stop()\n",
    "st_replay.close()"
   ]
  },
  {
   "cell_type": "code",
   "execution_count": 16,
   "metadata": {
    "tags": []
   },
   "outputs": [],
   "source": [
    "def decode_ee123_message(msg):\n",
    "    \"\"\"\n",
    "    Input:\n",
    "      msg: The info field of an APRS message packet\n",
    "    \n",
    "    Output:\n",
    "      A dict containing the key components the packet may contain\n",
    "      \n",
    "    Message formats:\n",
    "    :CALLSIGN :START####,filename,comment\n",
    "    :CALLSIGN :<data data data>####\n",
    "    :CALLSIGN :END####\n",
    "    \"\"\"\n",
    "    msg = msg.strip()\n",
    "    addressee = ''\n",
    "    uid = None\n",
    "    isstart = False\n",
    "    isend = False\n",
    "    seq = None\n",
    "    data = None  # This should be a bytes object\n",
    "    filename = ''\n",
    "    comment = ''\n",
    "    \n",
    "    # Your code here:\n",
    "    # First item is empty due to space\n",
    "    msg = msg.split(\":\")[1:]\n",
    "    # Callsign\n",
    "    addressee = msg.pop(0)\n",
    "    # Check start, end, or data\n",
    "    msg_type = msg.pop(0)\n",
    "    \n",
    "    if msg_type.find(\"START\") >= 0:\n",
    "        isstart = True\n",
    "        uid = msg_type[-4:]\n",
    "        body = msg_type.split(',')\n",
    "        body.pop(0)\n",
    "        filename = body.pop(0)\n",
    "        comment = body.pop(0)\n",
    "    elif msg_type.find(\"END\") >= 0:\n",
    "        isend = True\n",
    "        uid = msg_type[-4:]\n",
    "    else:\n",
    "        # Data Type\n",
    "        b64dat = msg_type[0:-4]\n",
    "        seq = msg_type[-4:]\n",
    "        data = base64.b64decode(b64dat)\n",
    "\n",
    "    # End of your code\n",
    "    return {'addr': addressee, 'uid': uid, 'isstart': isstart, \n",
    "            'isend': isend, 'seq': seq, 'filename': filename, \n",
    "            'data': data, 'comment': comment}"
   ]
  },
  {
   "cell_type": "code",
   "execution_count": 17,
   "metadata": {
    "tags": []
   },
   "outputs": [
    {
     "name": "stdout",
     "output_type": "stream",
     "text": [
      "decoding packets\n"
     ]
    },
    {
     "ename": "NameError",
     "evalue": "name 'Qin' is not defined",
     "output_type": "error",
     "traceback": [
      "\u001b[1;31m---------------------------------------------------------------------------\u001b[0m",
      "\u001b[1;31mNameError\u001b[0m                                 Traceback (most recent call last)",
      "Cell \u001b[1;32mIn[17], line 7\u001b[0m\n\u001b[0;32m      5\u001b[0m \u001b[38;5;66;03m# Your code here:\u001b[39;00m\n\u001b[0;32m      6\u001b[0m msg \u001b[38;5;241m=\u001b[39m []\n\u001b[1;32m----> 7\u001b[0m \u001b[38;5;28;01mwhile\u001b[39;00m \u001b[38;5;129;01mnot\u001b[39;00m \u001b[43mQin\u001b[49m\u001b[38;5;241m.\u001b[39mempty():\n\u001b[0;32m      8\u001b[0m     tmp \u001b[38;5;241m=\u001b[39m Qin\u001b[38;5;241m.\u001b[39mget()\n\u001b[0;32m      9\u001b[0m     packets \u001b[38;5;241m=\u001b[39m modem\u001b[38;5;241m.\u001b[39mprocessBuffer(tmp)\n",
      "\u001b[1;31mNameError\u001b[0m: name 'Qin' is not defined"
     ]
    }
   ],
   "source": [
    "# Decode the recording\n",
    "print(\"decoding packets\")\n",
    "starttime = time.time()\n",
    "\n",
    "# Your code here:\n",
    "msg = []\n",
    "while not Qin.empty():\n",
    "    tmp = Qin.get()\n",
    "    packets = modem.processBuffer(tmp)\n",
    "    for pckt in packets:\n",
    "        ax = modem.decodeAX25(pckt)\n",
    "        print(ax.info)\n",
    "        msg.append(decode_ee123_message(ax.info))"
   ]
  },
  {
   "cell_type": "code",
   "execution_count": null,
   "metadata": {},
   "outputs": [],
   "source": [
    "data = [m for m in msg if not (m['isstart'] or m['isend'])]\n",
    "data_sorted = sorted(data, key=lambda d: int(d['seq'], 16))\n",
    "binary = b''.join([d['data'] for d in data_sorted])[4:]\n",
    "rec_fname = \"rec_\" + [m['filename'] for m in msg if m['isstart']][0]\n",
    "print(rec_fname)\n",
    "\n",
    "# End of your code\n",
    "# Save the reconstructed file\n",
    "with open(rec_fname, 'wb') as f:\n",
    "    f.write(binary)\n",
    "\n",
    "print(f\"Done: {time.time() - starttime:.2f} s\")"
   ]
  }
 ],
 "metadata": {
  "kernelspec": {
   "display_name": "ee_env",
   "language": "python",
   "name": "ee_env"
  },
  "language_info": {
   "codemirror_mode": {
    "name": "ipython",
    "version": 3
   },
   "file_extension": ".py",
   "mimetype": "text/x-python",
   "name": "python",
   "nbconvert_exporter": "python",
   "pygments_lexer": "ipython3",
   "version": "3.10.9"
  }
 },
 "nbformat": 4,
 "nbformat_minor": 4
}
